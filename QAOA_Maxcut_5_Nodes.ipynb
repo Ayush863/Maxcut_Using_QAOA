{
 "cells": [
  {
   "cell_type": "code",
   "execution_count": 1,
   "id": "1cc872b6-d840-455d-9c77-29e143f17bfa",
   "metadata": {},
   "outputs": [
    {
     "name": "stderr",
     "output_type": "stream",
     "text": [
      "/opt/conda/lib/python3.8/site-packages/numpy/core/getlimits.py:499: UserWarning: The value of the smallest subnormal for <class 'numpy.float64'> type is zero.\n",
      "  setattr(self, word, getattr(machar, word).flat[0])\n",
      "/opt/conda/lib/python3.8/site-packages/numpy/core/getlimits.py:89: UserWarning: The value of the smallest subnormal for <class 'numpy.float64'> type is zero.\n",
      "  return self._float_to_str(self.smallest_subnormal)\n",
      "/opt/conda/lib/python3.8/site-packages/numpy/core/getlimits.py:499: UserWarning: The value of the smallest subnormal for <class 'numpy.float32'> type is zero.\n",
      "  setattr(self, word, getattr(machar, word).flat[0])\n",
      "/opt/conda/lib/python3.8/site-packages/numpy/core/getlimits.py:89: UserWarning: The value of the smallest subnormal for <class 'numpy.float32'> type is zero.\n",
      "  return self._float_to_str(self.smallest_subnormal)\n",
      "<frozen importlib._bootstrap>:219: RuntimeWarning: scipy._lib.messagestream.MessageStream size changed, may indicate binary incompatibility. Expected 56 from C header, got 64 from PyObject\n"
     ]
    }
   ],
   "source": [
    "# Importing standard Qiskit libraries\n",
    "from qiskit import QuantumCircuit, execute, transpile, Aer, IBMQ\n",
    "from qiskit.compiler import transpile, assemble\n",
    "from qiskit.tools.jupyter import *\n",
    "from qiskit.visualization import *\n",
    "from ibm_quantum_widgets import *\n",
    "from qiskit.providers.aer import QasmSimulator\n",
    "\n",
    "# Loading your IBM Quantum account(s)\n",
    "provider = IBMQ.load_account()"
   ]
  },
  {
   "cell_type": "code",
   "execution_count": 2,
   "id": "8c2ec118-838b-41bc-b802-2fb767ce329c",
   "metadata": {},
   "outputs": [],
   "source": [
    "import matplotlib.pyplot as plt\n",
    "from matplotlib import cm\n",
    "from matplotlib.ticker import LinearLocator, FormatStrFormatter\n",
    "\n",
    "import numpy as np\n",
    "\n",
    "import networkx as nx\n",
    "import matplotlib.pyplot as plt"
   ]
  },
  {
   "cell_type": "code",
   "execution_count": 3,
   "id": "d813c854-105a-4a46-942d-74d8a4b8e032",
   "metadata": {},
   "outputs": [
    {
     "data": {
      "image/png": "[encoded data removed]",
      "text/plain": [
       "<Figure size 432x288 with 1 Axes>"
      ]
     },
     "metadata": {},
     "output_type": "display_data"
    }
   ],
   "source": [
    "n = 5\n",
    "\n",
    "V = np.arange(0, n, 1)\n",
    "\n",
    "E = [(0, 1, 1.0), (0, 2, 1.0), (0, 3, 1.0), (1, 4, 1.0), (1, 3, 1.0), (3, 5, 1.0) ]\n",
    "\n",
    "#Generating above graph\n",
    "\n",
    "G = nx.Graph()\n",
    "G.add_nodes_from(V)\n",
    "G.add_weighted_edges_from(E)\n",
    "\n",
    "#Plotting the Graph\n",
    "nx.draw_networkx(G, node_color = 'g', node_size=500, alpha=0.9, ax = plt.axes(frameon=True), pos= nx.spring_layout(G))"
   ]
  },
  {
   "cell_type": "code",
   "execution_count": 5,
   "id": "a198b4e2-ae11-432f-92b0-bf7f377b3875",
   "metadata": {},
   "outputs": [],
   "source": [
    "def cuts_in_str(x, G):\n",
    "    cuts = 0\n",
    "    for i, j in G.edges():\n",
    "        if x[i] != x[j]:\n",
    "            cuts -= 1\n",
    "            \n",
    "    return cuts\n",
    "\n",
    "\n",
    "def compute_expectation(counts, G):\n",
    "   \n",
    "    avg = 0\n",
    "    sum_count = 0\n",
    "    for bitstring, count in counts.items():\n",
    "        \n",
    "        cuts = cuts_in_str(bitstring, G)\n",
    "        avg += cuts * count\n",
    "        sum_count += count\n",
    "        \n",
    "    return avg/sum_count\n",
    "\n",
    "def QAOA_Circuit(G, theta):\n",
    "    \n",
    "    \n",
    "    nqubits = len(G.nodes())\n",
    "    p = len(theta)//2  # number of alternating unitaries\n",
    "    QAOA = QuantumCircuit(nqubits)\n",
    "    \n",
    "    beta = theta[:p]\n",
    "    gamma = theta[p:]\n",
    "    \n",
    "    # initial_state\n",
    "    for i in range(0, nqubits):\n",
    "        QAOA.h(i)\n",
    "    \n",
    "    for j in range(0, p):\n",
    "        \n",
    "        # problem unitary\n",
    "        for pair in list(G.edges()):\n",
    "            QAOA.rzz(2 * gamma[j], pair[0], pair[1])\n",
    "\n",
    "        # mixer unitary\n",
    "        for i in range(0, nqubits):\n",
    "            QAOA.rx(2 * beta[j], i)\n",
    "            \n",
    "    QAOA.measure_all()        \n",
    "    return QAOA\n",
    "\n",
    "def get_expectation(G, p, shots=512):\n",
    "    \n",
    "    backend = Aer.get_backend('qasm_simulator')\n",
    "    backend.shots = shots\n",
    "    \n",
    "    def execute_circ(theta):\n",
    "        \n",
    "        QAOA = QAOA_Circuit(G, theta)\n",
    "        counts = backend.run(QAOA, seed_simulator=10, \n",
    "                             nshots=512).result().get_counts()\n",
    "        \n",
    "        return compute_expectation(counts, G)\n",
    "    \n",
    "    return execute_circ"
   ]
  },
  {
   "cell_type": "code",
   "execution_count": 11,
   "id": "24f2e017-3783-4477-a0cd-c35c07e09dfb",
   "metadata": {},
   "outputs": [
    {
     "data": {
      "text/plain": [
       "     fun: -3.7783203125\n",
       "   maxcv: 0.0\n",
       " message: 'Optimization terminated successfully.'\n",
       "    nfev: 31\n",
       "  status: 1\n",
       " success: True\n",
       "       x: array([1.20555651, 0.99054882])"
      ]
     },
     "execution_count": 11,
     "metadata": {},
     "output_type": "execute_result"
    }
   ],
   "source": [
    "from scipy.optimize import minimize\n",
    "\n",
    "\n",
    "expectation = get_expectation(G, p=100)\n",
    "\n",
    "res = minimize(expectation, \n",
    "                      [1.0, 1.0], \n",
    "                      method='COBYLA')\n",
    "res"
   ]
  },
  {
   "cell_type": "code",
   "execution_count": null,
   "id": "b25c6aa0-f139-42eb-8efe-ab2b7dd4c3bd",
   "metadata": {},
   "outputs": [],
   "source": [
    "from qiskit.visualization import plot_histogram\n",
    "\n",
    "backend = Aer.get_backend('aer_simulator')\n",
    "backend.shots = 512\n",
    "\n",
    "qc_res = QAOA_Circuit(G, res.x)\n",
    "\n",
    "counts = backend.run(qc_res, seed_simulator=10).result().get_counts()\n",
    "\n",
    "plot_histogram(counts, figsize = (28, 10), bar_labels = False, color = '#ae0f5c')"
   ]
  },
  {
   "cell_type": "code",
   "execution_count": null,
   "id": "94118c2e-fd10-43da-8d1c-f24548ffef69",
   "metadata": {},
   "outputs": [],
   "source": [
    "def cost_function(x, G):\n",
    "\n",
    "    E = G.edges()\n",
    "    if (len(x) != len(G.nodes())):\n",
    "        return np.nan\n",
    "    C = 0;\n",
    "    for index in E:\n",
    "        e1 = index[0]\n",
    "        e2 = index[1]\n",
    "\n",
    "        w = G[e1][e2]['weight']\n",
    "        C = C +w*x[e1]*(1-x[e2]) + w*x[e2]*(1-x[e1])\n",
    "\n",
    "    return C"
   ]
  },
  {
   "cell_type": "code",
   "execution_count": null,
   "id": "afb0f653-912c-4883-8a4f-f2eabf357fd0",
   "metadata": {},
   "outputs": [],
   "source": [
    "total_C = 0\n",
    "\n",
    "max_C = [0,0]\n",
    "\n",
    "hist = {}\n",
    "\n",
    "for sample in list(counts.keys()):\n",
    "    x = [int(num) for num in list(sample)]\n",
    "    temp = cost_function(x,G)\n",
    "    \n",
    "    total_C = total_C + counts[sample]*temp\n",
    "    hist[str(round(temp))] = hist.get(str(round(temp)),0) + counts[sample]\n",
    "    \n",
    "    if (max_C[1] < temp):\n",
    "        max_C[0] = sample\n",
    "        max_C[1] = temp\n",
    "        \n",
    "Mean_cost = total_C/backend.shots\n",
    "\n",
    "\n",
    "plot_histogram(hist, figsize = (15,8), bar_labels = True,  color = '#ae0f5c', title = \"Cost function distribution\")\n"
   ]
  },
  {
   "cell_type": "code",
   "execution_count": null,
   "id": "bb1b23b3-3fbd-4a8d-b5ca-f633c7239128",
   "metadata": {},
   "outputs": [],
   "source": []
  }
 ],
 "metadata": {
  "kernelspec": {
   "display_name": "Qiskit v0.35.0 (ipykernel)",
   "language": "python",
   "name": "python3"
  },
  "language_info": {
   "codemirror_mode": {
    "name": "ipython",
    "version": 3
   },
   "file_extension": ".py",
   "mimetype": "text/x-python",
   "name": "python",
   "nbconvert_exporter": "python",
   "pygments_lexer": "ipython3",
   "version": "3.8.13"
  },
  "widgets": {
   "application/vnd.jupyter.widget-state+json": {
    "state": {
     "02c96d5236184a0ab09b0d157e7c8503": {
      "model_module": "@jupyter-widgets/base",
      "model_module_version": "1.2.0",
      "model_name": "LayoutModel",
      "state": {
       "width": "70px"
      }
     },
     "08cac43da7624419a21a08356934a4c9": {
      "model_module": "@jupyter-widgets/controls",
      "model_module_version": "1.5.0",
      "model_name": "GridBoxModel",
      "state": {
       "children": [
        "IPY_MODEL_592256198ade43d1b5bc6940ecea0b8e"
       ],
       "layout": "IPY_MODEL_a41aa9e804ba4be19cb2b433f3a24ae7"
      }
     },
     "0c3ae14c27d1446abb96d718beaf4067": {
      "model_module": "@jupyter-widgets/controls",
      "model_module_version": "1.5.0",
      "model_name": "DescriptionStyleModel",
      "state": {
       "description_width": ""
      }
     },
     "0cb8d6b958d0437a8aa82a4c612d0471": {
      "model_module": "@jupyter-widgets/controls",
      "model_module_version": "1.5.0",
      "model_name": "HBoxModel",
      "state": {
       "children": [
        "IPY_MODEL_d9f84fbbeea94181871aa0264996adbd",
        "IPY_MODEL_5e4a81b08edf4a408cec9ecb23c7be6e",
        "IPY_MODEL_1163974c630b4eb78c5c5821cc1dc5b8",
        "IPY_MODEL_588e749907b142ac8e0343e5a8810a3f",
        "IPY_MODEL_c72b00bb6b6546d491d7002a9df03fdf"
       ],
       "layout": "IPY_MODEL_7540b75356934aa393025103bf237af6"
      }
     },
     "0f50658b3fd34a72ae0f9c36d2049263": {
      "model_module": "@jupyter-widgets/controls",
      "model_module_version": "1.5.0",
      "model_name": "DescriptionStyleModel",
      "state": {
       "description_width": ""
      }
     },
     "105b73ea5e584355a542c3c39511e1de": {
      "model_module": "@jupyter-widgets/controls",
      "model_module_version": "1.5.0",
      "model_name": "ButtonStyleModel",
      "state": {}
     },
     "10783423ba0648b28a95efcabf7d97f8": {
      "model_module": "@jupyter-widgets/base",
      "model_module_version": "1.2.0",
      "model_name": "LayoutModel",
      "state": {
       "width": "145px"
      }
     },
     "1163974c630b4eb78c5c5821cc1dc5b8": {
      "model_module": "@jupyter-widgets/controls",
      "model_module_version": "1.5.0",
      "model_name": "HTMLModel",
      "state": {
       "layout": "IPY_MODEL_c24de543b4ed4bb3aa3cc94878bb969c",
       "style": "IPY_MODEL_d0772be2f4304c628c1e9d522a0981c0",
       "value": "<h5>Status</h5>"
      }
     },
     "152d1c7c83454f9c858d0e56bd1b84e5": {
      "model_module": "@jupyter-widgets/base",
      "model_module_version": "1.2.0",
      "model_name": "LayoutModel",
      "state": {
       "width": "95px"
      }
     },
     "18949bdd5c6941049e50464f6208699c": {
      "model_module": "@jupyter-widgets/controls",
      "model_module_version": "1.5.0",
      "model_name": "ButtonStyleModel",
      "state": {}
     },
     "24d9206805874de59cd6e5d91626e0e7": {
      "model_module": "@jupyter-widgets/controls",
      "model_module_version": "1.5.0",
      "model_name": "DescriptionStyleModel",
      "state": {
       "description_width": ""
      }
     },
     "29d1de098519482580e9d4522fea0f96": {
      "model_module": "@jupyter-widgets/base",
      "model_module_version": "1.2.0",
      "model_name": "LayoutModel",
      "state": {
       "width": "70px"
      }
     },
     "2dee0ef65b2a49b0bb0841632cfc6877": {
      "model_module": "@jupyter-widgets/controls",
      "model_module_version": "1.5.0",
      "model_name": "DescriptionStyleModel",
      "state": {
       "description_width": ""
      }
     },
     "30ddc76944e74a2ca062a70f3ca265ce": {
      "model_module": "@jupyter-widgets/controls",
      "model_module_version": "1.5.0",
      "model_name": "DescriptionStyleModel",
      "state": {
       "description_width": ""
      }
     },
     "30f4f271461a432bb5ea5b7ab842508a": {
      "model_module": "@jupyter-widgets/controls",
      "model_module_version": "1.5.0",
      "model_name": "HTMLModel",
      "state": {
       "layout": "IPY_MODEL_43d503e80a4e40769a87fca01e5e3d98",
       "style": "IPY_MODEL_0c3ae14c27d1446abb96d718beaf4067",
       "value": "<h5>Job ID</h5>"
      }
     },
     "36d65f2be82640758cf1a04cfea0c154": {
      "model_module": "@jupyter-widgets/base",
      "model_module_version": "1.2.0",
      "model_name": "LayoutModel",
      "state": {
       "grid_template_areas": "\n                                       \". . . . right \"\n                                        ",
       "grid_template_columns": "20% 20% 20% 20% 20%",
       "width": "100%"
      }
     },
     "37917d550b814ff6aa2648191ecd8e31": {
      "model_module": "@jupyter-widgets/controls",
      "model_module_version": "1.5.0",
      "model_name": "ButtonStyleModel",
      "state": {}
     },
     "3afcef58946248c59c96746534fcc586": {
      "model_module": "@jupyter-widgets/base",
      "model_module_version": "1.2.0",
      "model_name": "LayoutModel",
      "state": {}
     },
     "3f1bce977c1044159793b2173c47e682": {
      "model_module": "@jupyter-widgets/controls",
      "model_module_version": "1.5.0",
      "model_name": "DescriptionStyleModel",
      "state": {
       "description_width": ""
      }
     },
     "3f2d0d68fa3144a593154c0d187c4b2c": {
      "model_module": "@jupyter-widgets/base",
      "model_module_version": "1.2.0",
      "model_name": "LayoutModel",
      "state": {
       "margin": "0px 0px 0px 37px",
       "width": "600px"
      }
     },
     "409fd37e4bbd43ffb23660bea165bbc7": {
      "model_module": "@jupyter-widgets/base",
      "model_module_version": "1.2.0",
      "model_name": "LayoutModel",
      "state": {
       "grid_area": "right",
       "padding": "0px 0px 0px 0px",
       "width": "70px"
      }
     },
     "43d503e80a4e40769a87fca01e5e3d98": {
      "model_module": "@jupyter-widgets/base",
      "model_module_version": "1.2.0",
      "model_name": "LayoutModel",
      "state": {
       "width": "190px"
      }
     },
     "4bec7100b7da489ab02a06abee14c8c3": {
      "model_module": "@jupyter-widgets/controls",
      "model_module_version": "1.5.0",
      "model_name": "DescriptionStyleModel",
      "state": {
       "description_width": ""
      }
     },
     "4d4c8e1a9a2b4614a811a9317364110c": {
      "model_module": "@jupyter-widgets/controls",
      "model_module_version": "1.5.0",
      "model_name": "HTMLModel",
      "state": {
       "layout": "IPY_MODEL_755d687fd4b04309bc188f34a7884fe4",
       "style": "IPY_MODEL_849de68bc2c4410b98bf6e284530b509",
       "value": "<h5>Status</h5>"
      }
     },
     "4ecfaffdbc8a42df827f5fae016a43fd": {
      "model_module": "@jupyter-widgets/controls",
      "model_module_version": "1.5.0",
      "model_name": "HTMLModel",
      "state": {
       "layout": "IPY_MODEL_7d29f033c7cd4d4ba38e20a431e7cb6e",
       "style": "IPY_MODEL_b82f277ffa934193a0eb4b75f58700e4",
       "value": "<p style='font-family: IBM Plex Sans, Arial, Helvetica, sans-serif; font-size: 20px; font-weight: medium;'>Circuit Properties</p>"
      }
     },
     "50f67906fa394e89872c337bb65f314c": {
      "model_module": "@jupyter-widgets/controls",
      "model_module_version": "1.5.0",
      "model_name": "HTMLModel",
      "state": {
       "layout": "IPY_MODEL_3afcef58946248c59c96746534fcc586",
       "style": "IPY_MODEL_30ddc76944e74a2ca062a70f3ca265ce",
       "value": "<h5>Message</h5>"
      }
     },
     "532ff18226e140f69e0d990ed7fedef7": {
      "model_module": "@jupyter-widgets/base",
      "model_module_version": "1.2.0",
      "model_name": "LayoutModel",
      "state": {
       "grid_template_areas": "\n                                       \". . . . right \"\n                                        ",
       "grid_template_columns": "20% 20% 20% 20% 20%",
       "width": "100%"
      }
     },
     "55d1711a6bfb40bbb2cfa59783a2ed63": {
      "model_module": "@jupyter-widgets/controls",
      "model_module_version": "1.5.0",
      "model_name": "DescriptionStyleModel",
      "state": {
       "description_width": ""
      }
     },
     "588e749907b142ac8e0343e5a8810a3f": {
      "model_module": "@jupyter-widgets/controls",
      "model_module_version": "1.5.0",
      "model_name": "HTMLModel",
      "state": {
       "layout": "IPY_MODEL_ada37904c03d45f583e41169d4d20672",
       "style": "IPY_MODEL_71b93930a3ed4d329a4aa7d0d4c1652c",
       "value": "<h5>Queue</h5>"
      }
     },
     "592256198ade43d1b5bc6940ecea0b8e": {
      "model_module": "@jupyter-widgets/controls",
      "model_module_version": "1.5.0",
      "model_name": "ButtonModel",
      "state": {
       "button_style": "primary",
       "description": "Clear",
       "layout": "IPY_MODEL_85e3e685ea7f4b4fb1473e8249049c94",
       "style": "IPY_MODEL_105b73ea5e584355a542c3c39511e1de"
      }
     },
     "5afb3e006c3c4093afa8a5b6776b6243": {
      "model_module": "@jupyter-widgets/base",
      "model_module_version": "1.2.0",
      "model_name": "LayoutModel",
      "state": {
       "grid_area": "right",
       "padding": "0px 0px 0px 0px",
       "width": "70px"
      }
     },
     "5cafa1c226a4443a8d3ca3ec627eeb02": {
      "model_module": "@jupyter-widgets/controls",
      "model_module_version": "1.5.0",
      "model_name": "ButtonModel",
      "state": {
       "button_style": "primary",
       "description": "Clear",
       "layout": "IPY_MODEL_409fd37e4bbd43ffb23660bea165bbc7",
       "style": "IPY_MODEL_37917d550b814ff6aa2648191ecd8e31"
      }
     },
     "5e4a81b08edf4a408cec9ecb23c7be6e": {
      "model_module": "@jupyter-widgets/controls",
      "model_module_version": "1.5.0",
      "model_name": "HTMLModel",
      "state": {
       "layout": "IPY_MODEL_10783423ba0648b28a95efcabf7d97f8",
       "style": "IPY_MODEL_55d1711a6bfb40bbb2cfa59783a2ed63",
       "value": "<h5>Backend</h5>"
      }
     },
     "6efb7ccdca8f448781d1885b4735c4ce": {
      "model_module": "@jupyter-widgets/base",
      "model_module_version": "1.2.0",
      "model_name": "LayoutModel",
      "state": {
       "margin": "0px 0px 0px 37px",
       "width": "600px"
      }
     },
     "7068776468214394acc137303ae213cd": {
      "model_module": "@jupyter-widgets/controls",
      "model_module_version": "1.5.0",
      "model_name": "HTMLModel",
      "state": {
       "layout": "IPY_MODEL_9ac4c0fefeb54aefbafcc01a97f895a6",
       "style": "IPY_MODEL_24d9206805874de59cd6e5d91626e0e7",
       "value": "<p style='font-family: IBM Plex Sans, Arial, Helvetica, sans-serif; font-size: 20px; font-weight: medium;'>Circuit Properties</p>"
      }
     },
     "71b93930a3ed4d329a4aa7d0d4c1652c": {
      "model_module": "@jupyter-widgets/controls",
      "model_module_version": "1.5.0",
      "model_name": "DescriptionStyleModel",
      "state": {
       "description_width": ""
      }
     },
     "7540b75356934aa393025103bf237af6": {
      "model_module": "@jupyter-widgets/base",
      "model_module_version": "1.2.0",
      "model_name": "LayoutModel",
      "state": {
       "margin": "0px 0px 0px 37px",
       "width": "600px"
      }
     },
     "755d687fd4b04309bc188f34a7884fe4": {
      "model_module": "@jupyter-widgets/base",
      "model_module_version": "1.2.0",
      "model_name": "LayoutModel",
      "state": {
       "width": "95px"
      }
     },
     "7c309fcc392b4dea8ffd3b70ab989d10": {
      "model_module": "@jupyter-widgets/controls",
      "model_module_version": "1.5.0",
      "model_name": "HTMLModel",
      "state": {
       "layout": "IPY_MODEL_a4af8613daca4dbea1c0c228fb060b68",
       "style": "IPY_MODEL_3f1bce977c1044159793b2173c47e682",
       "value": "<h5>Job ID</h5>"
      }
     },
     "7d29f033c7cd4d4ba38e20a431e7cb6e": {
      "model_module": "@jupyter-widgets/base",
      "model_module_version": "1.2.0",
      "model_name": "LayoutModel",
      "state": {
       "margin": "0px 0px 10px 0px"
      }
     },
     "8115bdd3b98d48ba823b5884787b9f38": {
      "model_module": "@jupyter-widgets/controls",
      "model_module_version": "1.5.0",
      "model_name": "HTMLModel",
      "state": {
       "layout": "IPY_MODEL_152d1c7c83454f9c858d0e56bd1b84e5",
       "style": "IPY_MODEL_4bec7100b7da489ab02a06abee14c8c3",
       "value": "<h5>Status</h5>"
      }
     },
     "849de68bc2c4410b98bf6e284530b509": {
      "model_module": "@jupyter-widgets/controls",
      "model_module_version": "1.5.0",
      "model_name": "DescriptionStyleModel",
      "state": {
       "description_width": ""
      }
     },
     "857497312f164f1eb5f57a0cd7d764a0": {
      "model_module": "@jupyter-widgets/controls",
      "model_module_version": "1.5.0",
      "model_name": "ButtonModel",
      "state": {
       "button_style": "primary",
       "description": "Clear",
       "layout": "IPY_MODEL_5afb3e006c3c4093afa8a5b6776b6243",
       "style": "IPY_MODEL_18949bdd5c6941049e50464f6208699c"
      }
     },
     "85e3e685ea7f4b4fb1473e8249049c94": {
      "model_module": "@jupyter-widgets/base",
      "model_module_version": "1.2.0",
      "model_name": "LayoutModel",
      "state": {
       "grid_area": "right",
       "padding": "0px 0px 0px 0px",
       "width": "70px"
      }
     },
     "925ae5125da04d9986302ea5e95c9e96": {
      "model_module": "@jupyter-widgets/controls",
      "model_module_version": "1.5.0",
      "model_name": "DescriptionStyleModel",
      "state": {
       "description_width": ""
      }
     },
     "95ffeceedd9449ad9a2fe4a05855ca65": {
      "model_module": "@jupyter-widgets/controls",
      "model_module_version": "1.5.0",
      "model_name": "DescriptionStyleModel",
      "state": {
       "description_width": ""
      }
     },
     "96bd2ac6842746a79ef0edcf9185656c": {
      "model_module": "@jupyter-widgets/controls",
      "model_module_version": "1.5.0",
      "model_name": "HTMLModel",
      "state": {
       "layout": "IPY_MODEL_ca348d464573423e85a40953a9274771",
       "style": "IPY_MODEL_2dee0ef65b2a49b0bb0841632cfc6877",
       "value": "<h5>Backend</h5>"
      }
     },
     "9ac4c0fefeb54aefbafcc01a97f895a6": {
      "model_module": "@jupyter-widgets/base",
      "model_module_version": "1.2.0",
      "model_name": "LayoutModel",
      "state": {
       "margin": "0px 0px 10px 0px"
      }
     },
     "a0e2ec46765145738ba5d222deb09bb0": {
      "model_module": "@jupyter-widgets/base",
      "model_module_version": "1.2.0",
      "model_name": "LayoutModel",
      "state": {
       "width": "145px"
      }
     },
     "a3df02a1c11244b6a33c310dfbf61fc4": {
      "model_module": "@jupyter-widgets/controls",
      "model_module_version": "1.5.0",
      "model_name": "DescriptionStyleModel",
      "state": {
       "description_width": ""
      }
     },
     "a41aa9e804ba4be19cb2b433f3a24ae7": {
      "model_module": "@jupyter-widgets/base",
      "model_module_version": "1.2.0",
      "model_name": "LayoutModel",
      "state": {
       "grid_template_areas": "\n                                       \". . . . right \"\n                                        ",
       "grid_template_columns": "20% 20% 20% 20% 20%",
       "width": "100%"
      }
     },
     "a4af8613daca4dbea1c0c228fb060b68": {
      "model_module": "@jupyter-widgets/base",
      "model_module_version": "1.2.0",
      "model_name": "LayoutModel",
      "state": {
       "width": "190px"
      }
     },
     "a92db94c34744a4aad46e5cd616c41e2": {
      "model_module": "@jupyter-widgets/controls",
      "model_module_version": "1.5.0",
      "model_name": "HTMLModel",
      "state": {
       "layout": "IPY_MODEL_a0e2ec46765145738ba5d222deb09bb0",
       "style": "IPY_MODEL_0f50658b3fd34a72ae0f9c36d2049263",
       "value": "<h5>Backend</h5>"
      }
     },
     "a9b5b4fba325471e96f1927facf9c544": {
      "model_module": "@jupyter-widgets/controls",
      "model_module_version": "1.5.0",
      "model_name": "DescriptionStyleModel",
      "state": {
       "description_width": ""
      }
     },
     "ad514c06c9d449b4a2cf3bd88abac88c": {
      "model_module": "@jupyter-widgets/base",
      "model_module_version": "1.2.0",
      "model_name": "LayoutModel",
      "state": {}
     },
     "ada37904c03d45f583e41169d4d20672": {
      "model_module": "@jupyter-widgets/base",
      "model_module_version": "1.2.0",
      "model_name": "LayoutModel",
      "state": {
       "width": "70px"
      }
     },
     "aef3c7b77ff64c9d9683f550eed4a785": {
      "model_module": "@jupyter-widgets/controls",
      "model_module_version": "1.5.0",
      "model_name": "GridBoxModel",
      "state": {
       "children": [
        "IPY_MODEL_5cafa1c226a4443a8d3ca3ec627eeb02"
       ],
       "layout": "IPY_MODEL_532ff18226e140f69e0d990ed7fedef7"
      }
     },
     "b82f277ffa934193a0eb4b75f58700e4": {
      "model_module": "@jupyter-widgets/controls",
      "model_module_version": "1.5.0",
      "model_name": "DescriptionStyleModel",
      "state": {
       "description_width": ""
      }
     },
     "b84f4adbb90145e995863e6c9c4b6b2c": {
      "model_module": "@jupyter-widgets/base",
      "model_module_version": "1.2.0",
      "model_name": "LayoutModel",
      "state": {
       "margin": "0px 0px 10px 0px"
      }
     },
     "bab05b7dd24b4aa9b5b1881eb34cf61a": {
      "model_module": "@jupyter-widgets/controls",
      "model_module_version": "1.5.0",
      "model_name": "HTMLModel",
      "state": {
       "layout": "IPY_MODEL_29d1de098519482580e9d4522fea0f96",
       "style": "IPY_MODEL_bc96e6acc4dc48b8be8f89bcf8b96e2e",
       "value": "<h5>Queue</h5>"
      }
     },
     "bc96e6acc4dc48b8be8f89bcf8b96e2e": {
      "model_module": "@jupyter-widgets/controls",
      "model_module_version": "1.5.0",
      "model_name": "DescriptionStyleModel",
      "state": {
       "description_width": ""
      }
     },
     "c24de543b4ed4bb3aa3cc94878bb969c": {
      "model_module": "@jupyter-widgets/base",
      "model_module_version": "1.2.0",
      "model_name": "LayoutModel",
      "state": {
       "width": "95px"
      }
     },
     "c29dd273d9d74404839db697931fccef": {
      "model_module": "@jupyter-widgets/controls",
      "model_module_version": "1.5.0",
      "model_name": "HTMLModel",
      "state": {
       "layout": "IPY_MODEL_02c96d5236184a0ab09b0d157e7c8503",
       "style": "IPY_MODEL_ed1919551b9e44359be0d1c96fe476b2",
       "value": "<h5>Queue</h5>"
      }
     },
     "c72b00bb6b6546d491d7002a9df03fdf": {
      "model_module": "@jupyter-widgets/controls",
      "model_module_version": "1.5.0",
      "model_name": "HTMLModel",
      "state": {
       "layout": "IPY_MODEL_ad514c06c9d449b4a2cf3bd88abac88c",
       "style": "IPY_MODEL_95ffeceedd9449ad9a2fe4a05855ca65",
       "value": "<h5>Message</h5>"
      }
     },
     "ca348d464573423e85a40953a9274771": {
      "model_module": "@jupyter-widgets/base",
      "model_module_version": "1.2.0",
      "model_name": "LayoutModel",
      "state": {
       "width": "145px"
      }
     },
     "d0772be2f4304c628c1e9d522a0981c0": {
      "model_module": "@jupyter-widgets/controls",
      "model_module_version": "1.5.0",
      "model_name": "DescriptionStyleModel",
      "state": {
       "description_width": ""
      }
     },
     "d38fb16248524b70babcabbc71928c5f": {
      "model_module": "@jupyter-widgets/controls",
      "model_module_version": "1.5.0",
      "model_name": "HTMLModel",
      "state": {
       "layout": "IPY_MODEL_b84f4adbb90145e995863e6c9c4b6b2c",
       "style": "IPY_MODEL_a3df02a1c11244b6a33c310dfbf61fc4",
       "value": "<p style='font-family: IBM Plex Sans, Arial, Helvetica, sans-serif; font-size: 20px; font-weight: medium;'>Circuit Properties</p>"
      }
     },
     "d9f84fbbeea94181871aa0264996adbd": {
      "model_module": "@jupyter-widgets/controls",
      "model_module_version": "1.5.0",
      "model_name": "HTMLModel",
      "state": {
       "layout": "IPY_MODEL_ecc3dc8e7aba42cbb034caaed405b88c",
       "style": "IPY_MODEL_a9b5b4fba325471e96f1927facf9c544",
       "value": "<h5>Job ID</h5>"
      }
     },
     "db4b56e801974ad3ad37ab656941b396": {
      "model_module": "@jupyter-widgets/base",
      "model_module_version": "1.2.0",
      "model_name": "LayoutModel",
      "state": {}
     },
     "dc3af22969f64528a4a4a7a0f8850fa7": {
      "model_module": "@jupyter-widgets/controls",
      "model_module_version": "1.5.0",
      "model_name": "HBoxModel",
      "state": {
       "children": [
        "IPY_MODEL_30f4f271461a432bb5ea5b7ab842508a",
        "IPY_MODEL_96bd2ac6842746a79ef0edcf9185656c",
        "IPY_MODEL_4d4c8e1a9a2b4614a811a9317364110c",
        "IPY_MODEL_bab05b7dd24b4aa9b5b1881eb34cf61a",
        "IPY_MODEL_50f67906fa394e89872c337bb65f314c"
       ],
       "layout": "IPY_MODEL_3f2d0d68fa3144a593154c0d187c4b2c"
      }
     },
     "e1df2449fd0b46f4be79eae7060d5831": {
      "model_module": "@jupyter-widgets/controls",
      "model_module_version": "1.5.0",
      "model_name": "GridBoxModel",
      "state": {
       "children": [
        "IPY_MODEL_857497312f164f1eb5f57a0cd7d764a0"
       ],
       "layout": "IPY_MODEL_36d65f2be82640758cf1a04cfea0c154"
      }
     },
     "ecc3dc8e7aba42cbb034caaed405b88c": {
      "model_module": "@jupyter-widgets/base",
      "model_module_version": "1.2.0",
      "model_name": "LayoutModel",
      "state": {
       "width": "190px"
      }
     },
     "ed1919551b9e44359be0d1c96fe476b2": {
      "model_module": "@jupyter-widgets/controls",
      "model_module_version": "1.5.0",
      "model_name": "DescriptionStyleModel",
      "state": {
       "description_width": ""
      }
     },
     "f07012206dc341c6a5f723029a532f2e": {
      "model_module": "@jupyter-widgets/controls",
      "model_module_version": "1.5.0",
      "model_name": "HBoxModel",
      "state": {
       "children": [
        "IPY_MODEL_7c309fcc392b4dea8ffd3b70ab989d10",
        "IPY_MODEL_a92db94c34744a4aad46e5cd616c41e2",
        "IPY_MODEL_8115bdd3b98d48ba823b5884787b9f38",
        "IPY_MODEL_c29dd273d9d74404839db697931fccef",
        "IPY_MODEL_f6bf04315a3740c9a2fa417d41b369c4"
       ],
       "layout": "IPY_MODEL_6efb7ccdca8f448781d1885b4735c4ce"
      }
     },
     "f6bf04315a3740c9a2fa417d41b369c4": {
      "model_module": "@jupyter-widgets/controls",
      "model_module_version": "1.5.0",
      "model_name": "HTMLModel",
      "state": {
       "layout": "IPY_MODEL_db4b56e801974ad3ad37ab656941b396",
       "style": "IPY_MODEL_925ae5125da04d9986302ea5e95c9e96",
       "value": "<h5>Message</h5>"
      }
     }
    },
    "version_major": 2,
    "version_minor": 0
   }
  }
 },
 "nbformat": 4,
 "nbformat_minor": 5
}
